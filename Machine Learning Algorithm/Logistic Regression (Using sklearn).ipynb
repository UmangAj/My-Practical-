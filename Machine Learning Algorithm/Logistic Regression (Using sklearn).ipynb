{
 "cells": [
  {
   "cell_type": "markdown",
   "id": "0dd25438",
   "metadata": {},
   "source": [
    "# Logistic Regression (Using sklearn)"
   ]
  },
  {
   "cell_type": "code",
   "execution_count": 1,
   "id": "97ea65ac",
   "metadata": {},
   "outputs": [],
   "source": [
    "from sklearn.datasets import make_classification\n",
    "import numpy as np\n",
    "import pandas as pd\n",
    "X, Y = make_classification(n_samples=100, n_features=2, n_informative=1, n_redundant=0, \n",
    "                           n_classes=2, n_clusters_per_class=1, random_state=41, hypercube=False, class_sep=15)"
   ]
  },
  {
   "cell_type": "code",
   "execution_count": 2,
   "id": "c058dda3",
   "metadata": {
    "scrolled": true
   },
   "outputs": [
    {
     "data": {
      "text/plain": [
       "array([[ 0.35523945, -0.11697552],\n",
       "       [-0.09282829, -0.73115232],\n",
       "       [-0.1984984 , -0.7081059 ],\n",
       "       [-2.44001098, -2.01199214],\n",
       "       [-0.0448475 ,  1.63493163],\n",
       "       [-1.68155714,  0.15599044],\n",
       "       [-2.64121606,  1.07782053],\n",
       "       [ 0.2416527 ,  0.80626713],\n",
       "       [-0.40266099,  0.74859527],\n",
       "       [-2.80888854,  0.75152794],\n",
       "       [-2.62743539, -0.90114581],\n",
       "       [-2.62900445, -0.1815243 ],\n",
       "       [ 0.13405049, -2.98092432],\n",
       "       [ 0.96162631,  1.20500136],\n",
       "       [-2.67615806,  0.78302407],\n",
       "       [ 0.54329928,  0.42968688],\n",
       "       [ 0.01490532, -0.73229726],\n",
       "       [-2.72870533, -0.83930476],\n",
       "       [-0.02633711,  0.83727062],\n",
       "       [-2.61974125, -0.10255323],\n",
       "       [-3.1257262 ,  0.65867001],\n",
       "       [-2.91434094,  0.92649819],\n",
       "       [-2.16605143,  0.10216193],\n",
       "       [ 1.76642459,  0.46886454],\n",
       "       [-2.06564986,  0.45432938],\n",
       "       [ 0.7699643 ,  1.8613386 ],\n",
       "       [-2.63675549, -0.79255991],\n",
       "       [-1.89063753, -1.0004391 ],\n",
       "       [-3.24982176, -0.53814137],\n",
       "       [-2.65298044,  0.44027716],\n",
       "       [-2.28990205,  0.27047889],\n",
       "       [ 1.50589178, -0.75869267],\n",
       "       [ 0.38119367,  0.6802322 ],\n",
       "       [ 0.69287727,  0.17018845],\n",
       "       [ 0.71082659, -1.01121977],\n",
       "       [-0.16578985, -0.8394709 ],\n",
       "       [-1.8373584 ,  0.90327412],\n",
       "       [ 0.82994005,  1.16981747],\n",
       "       [-2.45828184,  0.53461406],\n",
       "       [ 0.91326394, -0.22100631],\n",
       "       [-2.17505968, -0.64584571],\n",
       "       [-1.76697885,  0.21243302],\n",
       "       [-2.20492739,  0.98654083],\n",
       "       [ 1.62468859,  0.67382928],\n",
       "       [-1.65455305, -0.11323563],\n",
       "       [ 1.23659016,  0.91694693],\n",
       "       [ 0.30266526,  0.3645213 ],\n",
       "       [-2.2223914 , -0.78470874],\n",
       "       [-1.94656681, -1.48004137],\n",
       "       [-1.76932068,  0.72931763],\n",
       "       [ 0.37619713, -0.60000139],\n",
       "       [-0.1955372 ,  0.14720034],\n",
       "       [-2.27050259,  0.35215601],\n",
       "       [ 1.1001451 ,  0.17388705],\n",
       "       [ 2.30087391, -0.17162755],\n",
       "       [-2.37614128,  0.03763193],\n",
       "       [ 1.1907852 ,  0.48360467],\n",
       "       [-2.90465727, -0.07909256],\n",
       "       [-2.18155987,  0.06158897],\n",
       "       [ 0.04984158, -1.20413846],\n",
       "       [ 1.05509794,  0.77324391],\n",
       "       [-2.17067286,  0.7640092 ],\n",
       "       [-2.81404262,  1.57200032],\n",
       "       [ 1.12698986,  0.47296516],\n",
       "       [ 0.2080691 ,  0.0642074 ],\n",
       "       [-0.50794784,  1.52469135],\n",
       "       [-2.74291312, -2.1450828 ],\n",
       "       [ 0.7501366 , -0.7701428 ],\n",
       "       [-2.40176115,  0.84455766],\n",
       "       [-1.84902622,  1.29753064],\n",
       "       [-3.24578843, -0.84276652],\n",
       "       [ 0.43136638,  2.0615874 ],\n",
       "       [ 1.2283296 , -0.3036533 ],\n",
       "       [-2.30688472, -0.1656085 ],\n",
       "       [ 1.22266657,  1.16969713],\n",
       "       [ 0.83097544, -0.3038555 ],\n",
       "       [-3.03169151, -0.4788978 ],\n",
       "       [ 1.11994315,  0.28128262],\n",
       "       [-2.16473162,  0.70412341],\n",
       "       [ 0.8718523 ,  0.3757601 ],\n",
       "       [-0.00587454,  0.97247545],\n",
       "       [ 1.497861  ,  0.56868381],\n",
       "       [-2.30937635, -0.39767934],\n",
       "       [ 1.53244693, -1.08933729],\n",
       "       [-0.20171527, -1.81663939],\n",
       "       [-2.71319932,  1.41775924],\n",
       "       [-2.63179272,  0.27098296],\n",
       "       [-2.03842409, -0.56186639],\n",
       "       [ 0.42254045,  0.42168159],\n",
       "       [-2.1372365 , -2.95373116],\n",
       "       [ 0.90762682,  0.19492133],\n",
       "       [ 1.31853452, -0.04578681],\n",
       "       [-2.00804648, -0.18860967],\n",
       "       [-2.3360828 ,  0.44635682],\n",
       "       [ 0.90892018, -1.49814775],\n",
       "       [-2.97247309,  0.66198774],\n",
       "       [-2.38514409,  0.07153265],\n",
       "       [-2.30949306,  0.32323638],\n",
       "       [ 0.99225782, -0.34574201],\n",
       "       [-0.10971426,  0.06499922]])"
      ]
     },
     "execution_count": 2,
     "metadata": {},
     "output_type": "execute_result"
    }
   ],
   "source": [
    "X"
   ]
  },
  {
   "cell_type": "code",
   "execution_count": 3,
   "id": "18332f7c",
   "metadata": {},
   "outputs": [
    {
     "data": {
      "text/plain": [
       "array([1, 1, 1, 0, 1, 0, 0, 1, 1, 0, 0, 0, 1, 1, 0, 1, 1, 0, 1, 0, 0, 0,\n",
       "       0, 1, 0, 1, 0, 0, 0, 0, 0, 1, 1, 1, 1, 1, 0, 1, 0, 1, 0, 0, 0, 1,\n",
       "       0, 1, 1, 0, 0, 0, 1, 1, 0, 1, 1, 0, 1, 0, 0, 1, 1, 0, 0, 1, 1, 1,\n",
       "       0, 1, 0, 0, 0, 1, 1, 0, 1, 1, 0, 1, 0, 1, 1, 1, 0, 1, 1, 0, 0, 0,\n",
       "       1, 0, 1, 1, 0, 0, 1, 0, 0, 0, 1, 1])"
      ]
     },
     "execution_count": 3,
     "metadata": {},
     "output_type": "execute_result"
    }
   ],
   "source": [
    "Y"
   ]
  },
  {
   "cell_type": "code",
   "execution_count": 4,
   "id": "8390c129",
   "metadata": {},
   "outputs": [
    {
     "data": {
      "text/html": [
       "<style>#sk-container-id-1 {color: black;background-color: white;}#sk-container-id-1 pre{padding: 0;}#sk-container-id-1 div.sk-toggleable {background-color: white;}#sk-container-id-1 label.sk-toggleable__label {cursor: pointer;display: block;width: 100%;margin-bottom: 0;padding: 0.3em;box-sizing: border-box;text-align: center;}#sk-container-id-1 label.sk-toggleable__label-arrow:before {content: \"▸\";float: left;margin-right: 0.25em;color: #696969;}#sk-container-id-1 label.sk-toggleable__label-arrow:hover:before {color: black;}#sk-container-id-1 div.sk-estimator:hover label.sk-toggleable__label-arrow:before {color: black;}#sk-container-id-1 div.sk-toggleable__content {max-height: 0;max-width: 0;overflow: hidden;text-align: left;background-color: #f0f8ff;}#sk-container-id-1 div.sk-toggleable__content pre {margin: 0.2em;color: black;border-radius: 0.25em;background-color: #f0f8ff;}#sk-container-id-1 input.sk-toggleable__control:checked~div.sk-toggleable__content {max-height: 200px;max-width: 100%;overflow: auto;}#sk-container-id-1 input.sk-toggleable__control:checked~label.sk-toggleable__label-arrow:before {content: \"▾\";}#sk-container-id-1 div.sk-estimator input.sk-toggleable__control:checked~label.sk-toggleable__label {background-color: #d4ebff;}#sk-container-id-1 div.sk-label input.sk-toggleable__control:checked~label.sk-toggleable__label {background-color: #d4ebff;}#sk-container-id-1 input.sk-hidden--visually {border: 0;clip: rect(1px 1px 1px 1px);clip: rect(1px, 1px, 1px, 1px);height: 1px;margin: -1px;overflow: hidden;padding: 0;position: absolute;width: 1px;}#sk-container-id-1 div.sk-estimator {font-family: monospace;background-color: #f0f8ff;border: 1px dotted black;border-radius: 0.25em;box-sizing: border-box;margin-bottom: 0.5em;}#sk-container-id-1 div.sk-estimator:hover {background-color: #d4ebff;}#sk-container-id-1 div.sk-parallel-item::after {content: \"\";width: 100%;border-bottom: 1px solid gray;flex-grow: 1;}#sk-container-id-1 div.sk-label:hover label.sk-toggleable__label {background-color: #d4ebff;}#sk-container-id-1 div.sk-serial::before {content: \"\";position: absolute;border-left: 1px solid gray;box-sizing: border-box;top: 0;bottom: 0;left: 50%;z-index: 0;}#sk-container-id-1 div.sk-serial {display: flex;flex-direction: column;align-items: center;background-color: white;padding-right: 0.2em;padding-left: 0.2em;position: relative;}#sk-container-id-1 div.sk-item {position: relative;z-index: 1;}#sk-container-id-1 div.sk-parallel {display: flex;align-items: stretch;justify-content: center;background-color: white;position: relative;}#sk-container-id-1 div.sk-item::before, #sk-container-id-1 div.sk-parallel-item::before {content: \"\";position: absolute;border-left: 1px solid gray;box-sizing: border-box;top: 0;bottom: 0;left: 50%;z-index: -1;}#sk-container-id-1 div.sk-parallel-item {display: flex;flex-direction: column;z-index: 1;position: relative;background-color: white;}#sk-container-id-1 div.sk-parallel-item:first-child::after {align-self: flex-end;width: 50%;}#sk-container-id-1 div.sk-parallel-item:last-child::after {align-self: flex-start;width: 50%;}#sk-container-id-1 div.sk-parallel-item:only-child::after {width: 0;}#sk-container-id-1 div.sk-dashed-wrapped {border: 1px dashed gray;margin: 0 0.4em 0.5em 0.4em;box-sizing: border-box;padding-bottom: 0.4em;background-color: white;}#sk-container-id-1 div.sk-label label {font-family: monospace;font-weight: bold;display: inline-block;line-height: 1.2em;}#sk-container-id-1 div.sk-label-container {text-align: center;}#sk-container-id-1 div.sk-container {/* jupyter's `normalize.less` sets `[hidden] { display: none; }` but bootstrap.min.css set `[hidden] { display: none !important; }` so we also need the `!important` here to be able to override the default hidden behavior on the sphinx rendered scikit-learn.org. See: https://github.com/scikit-learn/scikit-learn/issues/21755 */display: inline-block !important;position: relative;}#sk-container-id-1 div.sk-text-repr-fallback {display: none;}</style><div id=\"sk-container-id-1\" class=\"sk-top-container\"><div class=\"sk-text-repr-fallback\"><pre>LogisticRegression()</pre><b>In a Jupyter environment, please rerun this cell to show the HTML representation or trust the notebook. <br />On GitHub, the HTML representation is unable to render, please try loading this page with nbviewer.org.</b></div><div class=\"sk-container\" hidden><div class=\"sk-item\"><div class=\"sk-estimator sk-toggleable\"><input class=\"sk-toggleable__control sk-hidden--visually\" id=\"sk-estimator-id-1\" type=\"checkbox\" checked><label for=\"sk-estimator-id-1\" class=\"sk-toggleable__label sk-toggleable__label-arrow\">LogisticRegression</label><div class=\"sk-toggleable__content\"><pre>LogisticRegression()</pre></div></div></div></div></div>"
      ],
      "text/plain": [
       "LogisticRegression()"
      ]
     },
     "execution_count": 4,
     "metadata": {},
     "output_type": "execute_result"
    }
   ],
   "source": [
    "from sklearn.linear_model import LogisticRegression\n",
    "lor = LogisticRegression()\n",
    "lor.fit(X, Y)"
   ]
  },
  {
   "cell_type": "code",
   "execution_count": 5,
   "id": "08f673a8",
   "metadata": {},
   "outputs": [
    {
     "data": {
      "text/plain": [
       "array([2.83641872])"
      ]
     },
     "execution_count": 5,
     "metadata": {},
     "output_type": "execute_result"
    }
   ],
   "source": [
    "lor.intercept_   # W0"
   ]
  },
  {
   "cell_type": "code",
   "execution_count": 6,
   "id": "7ea5a94f",
   "metadata": {},
   "outputs": [
    {
     "data": {
      "text/plain": [
       "array([[2.87119932, 0.03099621]])"
      ]
     },
     "execution_count": 6,
     "metadata": {},
     "output_type": "execute_result"
    }
   ],
   "source": [
    "lor.coef_    # W1,W2"
   ]
  },
  {
   "cell_type": "markdown",
   "id": "21200d02",
   "metadata": {},
   "source": [
    "***\n",
    "* Ax + By + C = 0\n",
    "* W0X0 + W1X1 + W2X2 = 0 \n",
    "* W0 = C, W1 = A, W2 = B\n",
    "- y = mx + b\n",
    "- m = -(A/B)\n",
    "- c = -(C/B)\n",
    "***\n"
   ]
  },
  {
   "cell_type": "code",
   "execution_count": 7,
   "id": "222d8fb6",
   "metadata": {},
   "outputs": [],
   "source": [
    "m = -(lor.coef_[0][0]/lor.coef_[0][1])\n",
    "b = -(lor.intercept_/lor.coef_[0][1])"
   ]
  },
  {
   "cell_type": "code",
   "execution_count": 8,
   "id": "21573b7c",
   "metadata": {},
   "outputs": [
    {
     "data": {
      "text/plain": [
       "-92.63065199408956"
      ]
     },
     "execution_count": 8,
     "metadata": {},
     "output_type": "execute_result"
    }
   ],
   "source": [
    "m"
   ]
  },
  {
   "cell_type": "code",
   "execution_count": 9,
   "id": "47313f66",
   "metadata": {},
   "outputs": [
    {
     "data": {
      "text/plain": [
       "array([-91.50855984])"
      ]
     },
     "execution_count": 9,
     "metadata": {},
     "output_type": "execute_result"
    }
   ],
   "source": [
    "b"
   ]
  },
  {
   "cell_type": "code",
   "execution_count": 10,
   "id": "8426c9a7",
   "metadata": {},
   "outputs": [],
   "source": [
    "x_input = np.linspace(-3, 3, 100)\n",
    "y_input = m*x_input + b"
   ]
  },
  {
   "cell_type": "code",
   "execution_count": 11,
   "id": "879d35a8",
   "metadata": {},
   "outputs": [],
   "source": [
    "import matplotlib.pyplot as plt"
   ]
  },
  {
   "cell_type": "code",
   "execution_count": 12,
   "id": "e60489e4",
   "metadata": {
    "scrolled": false
   },
   "outputs": [
    {
     "data": {
      "text/plain": [
       "(-3.0, 2.0)"
      ]
     },
     "execution_count": 12,
     "metadata": {},
     "output_type": "execute_result"
    },
    {
     "data": {
      "image/png": "[encoded data removed]",
      "text/plain": [
       "<Figure size 1000x600 with 1 Axes>"
      ]
     },
     "metadata": {},
     "output_type": "display_data"
    }
   ],
   "source": [
    "plt.figure(figsize=(10,6))\n",
    "plt.plot(x_input, y_input, color='black', linewidth=3)\n",
    "plt.scatter(X[:,0], X[:,1],c=Y, cmap=\"winter\", s=100 )\n",
    "plt.ylim(-3,2)"
   ]
  }
 ],
 "metadata": {
  "kernelspec": {
   "display_name": "Python 3 (ipykernel)",
   "language": "python",
   "name": "python3"
  },
  "language_info": {
   "codemirror_mode": {
    "name": "ipython",
    "version": 3
   },
   "file_extension": ".py",
   "mimetype": "text/x-python",
   "name": "python",
   "nbconvert_exporter": "python",
   "pygments_lexer": "ipython3",
   "version": "3.10.7"
  }
 },
 "nbformat": 4,
 "nbformat_minor": 5
}
