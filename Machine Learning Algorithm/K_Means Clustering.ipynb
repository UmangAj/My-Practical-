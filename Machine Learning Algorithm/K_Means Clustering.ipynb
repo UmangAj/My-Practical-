{
 "cells": [
  {
   "cell_type": "markdown",
   "id": "483f921b",
   "metadata": {},
   "source": [
    "***\n",
    "# K_Means Clustering \n",
    "***"
   ]
  },
  {
   "cell_type": "markdown",
   "id": "4941066b",
   "metadata": {},
   "source": [
    "## Steps for K_means clustering\n",
    "\n",
    "1. Create dataset\n",
    "2. Find how many cluster in the dataset\n",
    "3. Predict or build a model using this number of clusters\n",
    "4. Plot the scatter diagram"
   ]
  },
  {
   "cell_type": "code",
   "execution_count": 1,
   "id": "2651d487",
   "metadata": {},
   "outputs": [],
   "source": [
    "from sklearn.datasets import make_blobs\n",
    "import matplotlib.pyplot as plt\n",
    "import numpy as np\n",
    "import pandas as pd"
   ]
  },
  {
   "cell_type": "code",
   "execution_count": 2,
   "id": "310d01dd",
   "metadata": {},
   "outputs": [],
   "source": [
    "X, Y = make_blobs(n_samples=100, cluster_std=1.0, centers= [(-4,-4), (4,4)], n_features=2, random_state=2)"
   ]
  },
  {
   "cell_type": "code",
   "execution_count": 3,
   "id": "6152ec90",
   "metadata": {},
   "outputs": [
    {
     "data": {
      "text/plain": [
       "(100, 2)"
      ]
     },
     "execution_count": 3,
     "metadata": {},
     "output_type": "execute_result"
    }
   ],
   "source": [
    "X.shape"
   ]
  },
  {
   "cell_type": "code",
   "execution_count": 4,
   "id": "6ecb9ca1",
   "metadata": {},
   "outputs": [
    {
     "data": {
      "text/plain": [
       "array([[-4.3135082 , -3.22898826],\n",
       "       [-4.65325027, -3.15754372],\n",
       "       [-3.49711858, -5.24528809],\n",
       "       [-3.30488039, -6.03346655],\n",
       "       [ 4.36505352,  4.77408203],\n",
       "       [-4.26905696, -1.76863321],\n",
       "       [-6.1361961 , -2.35972919],\n",
       "       [ 4.79918   ,  5.26261366],\n",
       "       [-6.04032305, -3.95374448],\n",
       "       [ 4.39652016,  3.68538256],\n",
       "       [ 5.11788673,  3.72575791],\n",
       "       [ 8.10869262,  4.82112088],\n",
       "       [-3.49814279, -4.8442137 ],\n",
       "       [ 4.61014409,  4.4234969 ],\n",
       "       [ 2.54663565,  3.66198222],\n",
       "       [ 5.53176032,  2.01415423],\n",
       "       [ 3.67495037,  3.43976549],\n",
       "       [-3.17529699, -2.75178708],\n",
       "       [-4.46200535, -3.64911151],\n",
       "       [-4.67767558, -5.43943903],\n",
       "       [-2.63276458, -2.78211437],\n",
       "       [-3.61813377, -3.43372456],\n",
       "       [ 3.77175244,  1.93038774],\n",
       "       [-3.44854596, -1.70779199],\n",
       "       [ 4.96078194,  4.75837035],\n",
       "       [-4.0191305 , -2.82499878],\n",
       "       [ 3.53165374,  2.74527969],\n",
       "       [-5.42121723, -4.1534952 ],\n",
       "       [-4.38151648, -3.93351099],\n",
       "       [ 4.49794015,  4.12650418],\n",
       "       [ 4.35913333,  4.62222041],\n",
       "       [ 3.28074616,  3.41658541],\n",
       "       [-5.05795222, -4.90900761],\n",
       "       [-4.03957024, -3.67399657],\n",
       "       [-4.33882197, -4.23618403],\n",
       "       [-3.99999024, -3.45764743],\n",
       "       [ 3.40624442,  5.14950057],\n",
       "       [ 6.55043824,  2.52682675],\n",
       "       [ 5.33556617,  4.30262934],\n",
       "       [ 4.69619798,  4.69741627],\n",
       "       [-5.79343559, -4.84174737],\n",
       "       [-2.99963411, -4.38109252],\n",
       "       [ 2.97858527,  4.4323957 ],\n",
       "       [ 3.8855787 ,  3.50182581],\n",
       "       [-6.65944946, -4.09145262],\n",
       "       [ 3.69591356,  6.58529487],\n",
       "       [ 5.03302907,  3.67099757],\n",
       "       [-4.82913529, -3.91228978],\n",
       "       [ 3.63552091,  3.12402052],\n",
       "       [ 3.54577215,  4.51437072],\n",
       "       [-3.46094168, -4.5961597 ],\n",
       "       [-3.61952803, -4.21713527],\n",
       "       [ 3.67641993,  4.42382471],\n",
       "       [ 5.83533272,  4.44068987],\n",
       "       [ 2.93920096,  4.59166652],\n",
       "       [-4.40389227, -5.38451867],\n",
       "       [ 3.30141005,  3.07110808],\n",
       "       [-3.79579202, -2.59330376],\n",
       "       [ 5.16152149,  4.38607805],\n",
       "       [-4.74787095, -3.99097475],\n",
       "       [ 5.10914328,  2.23508227],\n",
       "       [-6.43476758, -3.8872735 ],\n",
       "       [-4.63467931, -3.49160376],\n",
       "       [ 4.75196485,  3.00623902],\n",
       "       [ 4.60151581,  4.00365949],\n",
       "       [-3.38865922, -3.95202941],\n",
       "       [ 3.81674343,  5.01985473],\n",
       "       [ 2.86686673,  4.43309255],\n",
       "       [ 2.45332539,  1.91734806],\n",
       "       [-4.37566942, -4.07447076],\n",
       "       [ 7.2797454 ,  4.97086132],\n",
       "       [-4.41675785, -4.05626683],\n",
       "       [-2.53232199, -4.33567734],\n",
       "       [-3.47570357, -3.26472042],\n",
       "       [ 3.09775393,  3.40902772],\n",
       "       [-5.7379595 , -2.95917605],\n",
       "       [-3.78388399, -5.85861239],\n",
       "       [ 3.72382051,  3.48311611],\n",
       "       [ 2.58118945,  3.74822588],\n",
       "       [-5.09873895, -2.41551294],\n",
       "       [ 4.82945843,  4.63062197],\n",
       "       [ 2.74457278,  4.93816367],\n",
       "       [ 2.86568152,  3.29257911],\n",
       "       [-3.95846061, -5.11792545],\n",
       "       [ 4.12482365,  4.75650214],\n",
       "       [-4.41931648, -4.1323289 ],\n",
       "       [-4.63765501, -5.18761229],\n",
       "       [ 2.51753452,  4.84631189],\n",
       "       [-2.8264685 , -6.34360319],\n",
       "       [-4.87810789, -4.15643417],\n",
       "       [ 5.74181219,  3.55249912],\n",
       "       [-4.18946926, -4.07721867],\n",
       "       [-3.62955546, -2.64036614],\n",
       "       [ 5.79259285,  3.57098668],\n",
       "       [ 4.24143963,  4.49742565],\n",
       "       [-3.56650367, -2.72162077],\n",
       "       [ 2.77857083,  5.80447664],\n",
       "       [-5.86809065, -2.26881533],\n",
       "       [-3.74342955, -4.98877905],\n",
       "       [ 4.18040981,  4.55316427]])"
      ]
     },
     "execution_count": 4,
     "metadata": {},
     "output_type": "execute_result"
    }
   ],
   "source": [
    "X"
   ]
  },
  {
   "cell_type": "code",
   "execution_count": 5,
   "id": "5f031268",
   "metadata": {},
   "outputs": [
    {
     "data": {
      "text/plain": [
       "(100,)"
      ]
     },
     "execution_count": 5,
     "metadata": {},
     "output_type": "execute_result"
    }
   ],
   "source": [
    "Y.shape"
   ]
  },
  {
   "cell_type": "code",
   "execution_count": 6,
   "id": "71c4388e",
   "metadata": {},
   "outputs": [
    {
     "data": {
      "text/plain": [
       "array([0, 0, 0, 0, 1, 0, 0, 1, 0, 1, 1, 1, 0, 1, 1, 1, 1, 0, 0, 0, 0, 0,\n",
       "       1, 0, 1, 0, 1, 0, 0, 1, 1, 1, 0, 0, 0, 0, 1, 1, 1, 1, 0, 0, 1, 1,\n",
       "       0, 1, 1, 0, 1, 1, 0, 0, 1, 1, 1, 0, 1, 0, 1, 0, 1, 0, 0, 1, 1, 0,\n",
       "       1, 1, 1, 0, 1, 0, 0, 0, 1, 0, 0, 1, 1, 0, 1, 1, 1, 0, 1, 0, 0, 1,\n",
       "       0, 0, 1, 0, 0, 1, 1, 0, 1, 0, 0, 1])"
      ]
     },
     "execution_count": 6,
     "metadata": {},
     "output_type": "execute_result"
    }
   ],
   "source": [
    "Y"
   ]
  },
  {
   "cell_type": "code",
   "execution_count": 7,
   "id": "70261e75",
   "metadata": {},
   "outputs": [
    {
     "data": {
      "text/plain": [
       "<matplotlib.collections.PathCollection at 0x22f0327c730>"
      ]
     },
     "execution_count": 7,
     "metadata": {},
     "output_type": "execute_result"
    },
    {
     "data": {
      "image/png": "[encoded data removed]",
      "text/plain": [
       "<Figure size 640x480 with 1 Axes>"
      ]
     },
     "metadata": {},
     "output_type": "display_data"
    }
   ],
   "source": [
    "plt.scatter(X[:, 0], X[:,1])"
   ]
  },
  {
   "cell_type": "code",
   "execution_count": 8,
   "id": "b4f8b80c",
   "metadata": {},
   "outputs": [],
   "source": [
    "from sklearn.cluster import KMeans"
   ]
  },
  {
   "cell_type": "code",
   "execution_count": 9,
   "id": "86f4b1ef",
   "metadata": {},
   "outputs": [
    {
     "name": "stderr",
     "output_type": "stream",
     "text": [
      "C:\\Python 3.10\\lib\\site-packages\\sklearn\\cluster\\_kmeans.py:870: FutureWarning: The default value of `n_init` will change from 10 to 'auto' in 1.4. Set the value of `n_init` explicitly to suppress the warning\n",
      "  warnings.warn(\n",
      "C:\\Python 3.10\\lib\\site-packages\\sklearn\\cluster\\_kmeans.py:870: FutureWarning: The default value of `n_init` will change from 10 to 'auto' in 1.4. Set the value of `n_init` explicitly to suppress the warning\n",
      "  warnings.warn(\n",
      "C:\\Python 3.10\\lib\\site-packages\\sklearn\\cluster\\_kmeans.py:870: FutureWarning: The default value of `n_init` will change from 10 to 'auto' in 1.4. Set the value of `n_init` explicitly to suppress the warning\n",
      "  warnings.warn(\n",
      "C:\\Python 3.10\\lib\\site-packages\\sklearn\\cluster\\_kmeans.py:870: FutureWarning: The default value of `n_init` will change from 10 to 'auto' in 1.4. Set the value of `n_init` explicitly to suppress the warning\n",
      "  warnings.warn(\n",
      "C:\\Python 3.10\\lib\\site-packages\\sklearn\\cluster\\_kmeans.py:870: FutureWarning: The default value of `n_init` will change from 10 to 'auto' in 1.4. Set the value of `n_init` explicitly to suppress the warning\n",
      "  warnings.warn(\n",
      "C:\\Python 3.10\\lib\\site-packages\\sklearn\\cluster\\_kmeans.py:870: FutureWarning: The default value of `n_init` will change from 10 to 'auto' in 1.4. Set the value of `n_init` explicitly to suppress the warning\n",
      "  warnings.warn(\n",
      "C:\\Python 3.10\\lib\\site-packages\\sklearn\\cluster\\_kmeans.py:870: FutureWarning: The default value of `n_init` will change from 10 to 'auto' in 1.4. Set the value of `n_init` explicitly to suppress the warning\n",
      "  warnings.warn(\n",
      "C:\\Python 3.10\\lib\\site-packages\\sklearn\\cluster\\_kmeans.py:870: FutureWarning: The default value of `n_init` will change from 10 to 'auto' in 1.4. Set the value of `n_init` explicitly to suppress the warning\n",
      "  warnings.warn(\n",
      "C:\\Python 3.10\\lib\\site-packages\\sklearn\\cluster\\_kmeans.py:870: FutureWarning: The default value of `n_init` will change from 10 to 'auto' in 1.4. Set the value of `n_init` explicitly to suppress the warning\n",
      "  warnings.warn(\n",
      "C:\\Python 3.10\\lib\\site-packages\\sklearn\\cluster\\_kmeans.py:870: FutureWarning: The default value of `n_init` will change from 10 to 'auto' in 1.4. Set the value of `n_init` explicitly to suppress the warning\n",
      "  warnings.warn(\n"
     ]
    }
   ],
   "source": [
    "wcss = []          #create list \n",
    "\n",
    "for i in range(1,11):\n",
    "    km = KMeans(n_clusters=i)\n",
    "    km.fit_predict(X, Y)\n",
    "    wcss.append(km.inertia_)"
   ]
  },
  {
   "cell_type": "code",
   "execution_count": 10,
   "id": "365b103f",
   "metadata": {},
   "outputs": [
    {
     "data": {
      "text/plain": [
       "[3618.4256225555846,\n",
       " 225.8738899948287,\n",
       " 178.43733787867038,\n",
       " 139.70038304492996,\n",
       " 116.99113293511115,\n",
       " 93.40621126275686,\n",
       " 79.68983197647597,\n",
       " 67.55301107610572,\n",
       " 54.42374240587368,\n",
       " 47.911630650065156]"
      ]
     },
     "execution_count": 10,
     "metadata": {},
     "output_type": "execute_result"
    }
   ],
   "source": [
    "#to find how many clusters in the dataset\n",
    "\n",
    "wcss"
   ]
  },
  {
   "cell_type": "code",
   "execution_count": 11,
   "id": "790879a3",
   "metadata": {},
   "outputs": [
    {
     "data": {
      "text/plain": [
       "[<matplotlib.lines.Line2D at 0x22f059a7e50>]"
      ]
     },
     "execution_count": 11,
     "metadata": {},
     "output_type": "execute_result"
    },
    {
     "data": {
      "image/png": "[encoded data removed]",
      "text/plain": [
       "<Figure size 640x480 with 1 Axes>"
      ]
     },
     "metadata": {},
     "output_type": "display_data"
    }
   ],
   "source": [
    "#in the plot we can see, 2 clusters in the dataset\n",
    "\n",
    "plt.plot(range(1,11), wcss)"
   ]
  },
  {
   "cell_type": "code",
   "execution_count": 12,
   "id": "ff1253aa",
   "metadata": {},
   "outputs": [
    {
     "name": "stderr",
     "output_type": "stream",
     "text": [
      "C:\\Python 3.10\\lib\\site-packages\\sklearn\\cluster\\_kmeans.py:870: FutureWarning: The default value of `n_init` will change from 10 to 'auto' in 1.4. Set the value of `n_init` explicitly to suppress the warning\n",
      "  warnings.warn(\n"
     ]
    }
   ],
   "source": [
    "km = KMeans(n_clusters=2)\n",
    "Y_means = km.fit_predict(X)"
   ]
  },
  {
   "cell_type": "code",
   "execution_count": 13,
   "id": "c768b852",
   "metadata": {},
   "outputs": [
    {
     "data": {
      "text/plain": [
       "array([1, 1, 1, 1, 0, 1, 1, 0, 1, 0, 0, 0, 1, 0, 0, 0, 0, 1, 1, 1, 1, 1,\n",
       "       0, 1, 0, 1, 0, 1, 1, 0, 0, 0, 1, 1, 1, 1, 0, 0, 0, 0, 1, 1, 0, 0,\n",
       "       1, 0, 0, 1, 0, 0, 1, 1, 0, 0, 0, 1, 0, 1, 0, 1, 0, 1, 1, 0, 0, 1,\n",
       "       0, 0, 0, 1, 0, 1, 1, 1, 0, 1, 1, 0, 0, 1, 0, 0, 0, 1, 0, 1, 1, 0,\n",
       "       1, 1, 0, 1, 1, 0, 0, 1, 0, 1, 1, 0])"
      ]
     },
     "execution_count": 13,
     "metadata": {},
     "output_type": "execute_result"
    }
   ],
   "source": [
    "Y_means"
   ]
  },
  {
   "cell_type": "code",
   "execution_count": 14,
   "id": "6f1c5d79",
   "metadata": {
    "scrolled": false
   },
   "outputs": [
    {
     "data": {
      "text/plain": [
       "<matplotlib.collections.PathCollection at 0x22f031e0a90>"
      ]
     },
     "execution_count": 14,
     "metadata": {},
     "output_type": "execute_result"
    },
    {
     "data": {
      "image/png": "[encoded data removed]",
      "text/plain": [
       "<Figure size 640x480 with 1 Axes>"
      ]
     },
     "metadata": {},
     "output_type": "display_data"
    }
   ],
   "source": [
    "#in X using Y_means {X[Y_means == 0,0]} \n",
    "#when 1st zero is 0th cluster and 2nd zero is 0th index\n",
    "#X[Y_means == 0,1]\n",
    "#when 1st zero is 0th cluster and 2nd one is 1st index \n",
    "\n",
    "#in X using Y_means {X[Y_means == 1,0]} \n",
    "#when 1st one is 1st cluster and 2nd zero is 0th index\n",
    "#X[Y_means == 1,1]\n",
    "#when 1st one is 1st cluster and 2nd one is 1st index \n",
    "\n",
    "plt.scatter (X[Y_means == 0,0], X[Y_means == 0,1], color=\"red\")\n",
    "plt.scatter (X[Y_means == 1,0], X[Y_means == 1,1], color=\"blue\")"
   ]
  }
 ],
 "metadata": {
  "kernelspec": {
   "display_name": "Python 3 (ipykernel)",
   "language": "python",
   "name": "python3"
  },
  "language_info": {
   "codemirror_mode": {
    "name": "ipython",
    "version": 3
   },
   "file_extension": ".py",
   "mimetype": "text/x-python",
   "name": "python",
   "nbconvert_exporter": "python",
   "pygments_lexer": "ipython3",
   "version": "3.10.7"
  }
 },
 "nbformat": 4,
 "nbformat_minor": 5
}
